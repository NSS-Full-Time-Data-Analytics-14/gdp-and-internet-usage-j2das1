{
 "cells": [
  {
   "cell_type": "code",
   "execution_count": 1,
   "id": "1813f05d-ea43-4afa-8e3a-cd8c6f14ca19",
   "metadata": {},
   "outputs": [],
   "source": [
    "import pandas as pd"
   ]
  },
  {
   "cell_type": "code",
   "execution_count": 2,
   "id": "611e35a6-65af-4508-a116-2153ab8762a6",
   "metadata": {},
   "outputs": [],
   "source": [
    "import numpy as np"
   ]
  },
  {
   "cell_type": "code",
   "execution_count": 3,
   "id": "2f5c2d3c-8959-4c01-87d6-40b10869bda7",
   "metadata": {},
   "outputs": [],
   "source": [
    "import matplotlib.pyplot as plt"
   ]
  },
  {
   "cell_type": "code",
   "execution_count": 4,
   "id": "f42c3c7a-ae31-4b76-8706-c33f91e6252b",
   "metadata": {},
   "outputs": [],
   "source": [
    "import seaborn as sns"
   ]
  },
  {
   "cell_type": "code",
   "execution_count": 5,
   "id": "959980e7-6a80-45b1-a909-0dcc8f7f8447",
   "metadata": {},
   "outputs": [],
   "source": [
    "gdp_df = pd.read_csv(r'C:\\\\Users\\\\J2das\\\\Documents\\\\NSS\\\\PYTHON\\\\Projects\\\\gdp-and-internet-usage-j2das1\\\\data\\\\gdp_percapita.csv', nrows=7663)"
   ]
  },
  {
   "cell_type": "code",
   "execution_count": 6,
   "id": "72813522-d434-463f-b9d3-7b6e3b37199d",
   "metadata": {},
   "outputs": [
    {
     "data": {
      "text/html": [
       "<div>\n",
       "<style scoped>\n",
       "    .dataframe tbody tr th:only-of-type {\n",
       "        vertical-align: middle;\n",
       "    }\n",
       "\n",
       "    .dataframe tbody tr th {\n",
       "        vertical-align: top;\n",
       "    }\n",
       "\n",
       "    .dataframe thead th {\n",
       "        text-align: right;\n",
       "    }\n",
       "</style>\n",
       "<table border=\"1\" class=\"dataframe\">\n",
       "  <thead>\n",
       "    <tr style=\"text-align: right;\">\n",
       "      <th></th>\n",
       "      <th>Country or Area</th>\n",
       "      <th>Year</th>\n",
       "      <th>Value</th>\n",
       "      <th>Value Footnotes</th>\n",
       "    </tr>\n",
       "  </thead>\n",
       "  <tbody>\n",
       "    <tr>\n",
       "      <th>0</th>\n",
       "      <td>Afghanistan</td>\n",
       "      <td>2021</td>\n",
       "      <td>1517.016266</td>\n",
       "      <td>NaN</td>\n",
       "    </tr>\n",
       "    <tr>\n",
       "      <th>1</th>\n",
       "      <td>Afghanistan</td>\n",
       "      <td>2020</td>\n",
       "      <td>1968.341002</td>\n",
       "      <td>NaN</td>\n",
       "    </tr>\n",
       "    <tr>\n",
       "      <th>2</th>\n",
       "      <td>Afghanistan</td>\n",
       "      <td>2019</td>\n",
       "      <td>2079.921861</td>\n",
       "      <td>NaN</td>\n",
       "    </tr>\n",
       "    <tr>\n",
       "      <th>3</th>\n",
       "      <td>Afghanistan</td>\n",
       "      <td>2018</td>\n",
       "      <td>2060.698973</td>\n",
       "      <td>NaN</td>\n",
       "    </tr>\n",
       "    <tr>\n",
       "      <th>4</th>\n",
       "      <td>Afghanistan</td>\n",
       "      <td>2017</td>\n",
       "      <td>2096.093111</td>\n",
       "      <td>NaN</td>\n",
       "    </tr>\n",
       "    <tr>\n",
       "      <th>...</th>\n",
       "      <td>...</td>\n",
       "      <td>...</td>\n",
       "      <td>...</td>\n",
       "      <td>...</td>\n",
       "    </tr>\n",
       "    <tr>\n",
       "      <th>7657</th>\n",
       "      <td>Zimbabwe</td>\n",
       "      <td>1994</td>\n",
       "      <td>2670.106615</td>\n",
       "      <td>NaN</td>\n",
       "    </tr>\n",
       "    <tr>\n",
       "      <th>7658</th>\n",
       "      <td>Zimbabwe</td>\n",
       "      <td>1993</td>\n",
       "      <td>2458.783255</td>\n",
       "      <td>NaN</td>\n",
       "    </tr>\n",
       "    <tr>\n",
       "      <th>7659</th>\n",
       "      <td>Zimbabwe</td>\n",
       "      <td>1992</td>\n",
       "      <td>2468.278257</td>\n",
       "      <td>NaN</td>\n",
       "    </tr>\n",
       "    <tr>\n",
       "      <th>7660</th>\n",
       "      <td>Zimbabwe</td>\n",
       "      <td>1991</td>\n",
       "      <td>2781.787843</td>\n",
       "      <td>NaN</td>\n",
       "    </tr>\n",
       "    <tr>\n",
       "      <th>7661</th>\n",
       "      <td>Zimbabwe</td>\n",
       "      <td>1990</td>\n",
       "      <td>2704.757299</td>\n",
       "      <td>NaN</td>\n",
       "    </tr>\n",
       "  </tbody>\n",
       "</table>\n",
       "<p>7662 rows × 4 columns</p>\n",
       "</div>"
      ],
      "text/plain": [
       "     Country or Area  Year        Value  Value Footnotes\n",
       "0        Afghanistan  2021  1517.016266              NaN\n",
       "1        Afghanistan  2020  1968.341002              NaN\n",
       "2        Afghanistan  2019  2079.921861              NaN\n",
       "3        Afghanistan  2018  2060.698973              NaN\n",
       "4        Afghanistan  2017  2096.093111              NaN\n",
       "...              ...   ...          ...              ...\n",
       "7657        Zimbabwe  1994  2670.106615              NaN\n",
       "7658        Zimbabwe  1993  2458.783255              NaN\n",
       "7659        Zimbabwe  1992  2468.278257              NaN\n",
       "7660        Zimbabwe  1991  2781.787843              NaN\n",
       "7661        Zimbabwe  1990  2704.757299              NaN\n",
       "\n",
       "[7662 rows x 4 columns]"
      ]
     },
     "execution_count": 6,
     "metadata": {},
     "output_type": "execute_result"
    }
   ],
   "source": [
    "gdp_df"
   ]
  },
  {
   "cell_type": "code",
   "execution_count": 7,
   "id": "80f34dab-e7fe-4dbe-9619-989ee1014795",
   "metadata": {},
   "outputs": [
    {
     "data": {
      "text/plain": [
       "(7662, 4)"
      ]
     },
     "execution_count": 7,
     "metadata": {},
     "output_type": "execute_result"
    }
   ],
   "source": [
    "gdp_df.shape"
   ]
  },
  {
   "cell_type": "markdown",
   "id": "7d5c50fd-c1f3-4dbe-9735-81f307651c1f",
   "metadata": {},
   "source": [
    "Question 5: How many rows and columns are in `gdp_df`? What are the data types of each column? 7662 rows and 4 colums\n"
   ]
  },
  {
   "cell_type": "markdown",
   "id": "8169531e-6d19-487c-8c72-ab6067a94fc9",
   "metadata": {},
   "source": [
    "**6. Drop the `Value Footnotes` column and rename the remaining three to 'Country', 'Year', and 'GDP_Per_Capita'.**"
   ]
  },
  {
   "cell_type": "code",
   "execution_count": 10,
   "id": "15463c1f-1531-49ed-8ff3-cbae5f0d7ba0",
   "metadata": {},
   "outputs": [],
   "source": [
    "gdp_df = gdp_df.drop(columns = ['Value Footnotes'])"
   ]
  },
  {
   "cell_type": "code",
   "execution_count": 11,
   "id": "92d5adf2-26ae-43d6-a910-a7efb0a79765",
   "metadata": {},
   "outputs": [
    {
     "name": "stdout",
     "output_type": "stream",
     "text": [
      "     Country or Area  Year        Value\n",
      "0        Afghanistan  2021  1517.016266\n",
      "1        Afghanistan  2020  1968.341002\n",
      "2        Afghanistan  2019  2079.921861\n",
      "3        Afghanistan  2018  2060.698973\n",
      "4        Afghanistan  2017  2096.093111\n",
      "...              ...   ...          ...\n",
      "7657        Zimbabwe  1994  2670.106615\n",
      "7658        Zimbabwe  1993  2458.783255\n",
      "7659        Zimbabwe  1992  2468.278257\n",
      "7660        Zimbabwe  1991  2781.787843\n",
      "7661        Zimbabwe  1990  2704.757299\n",
      "\n",
      "[7662 rows x 3 columns]\n"
     ]
    }
   ],
   "source": [
    "print(gdp_df)"
   ]
  },
  {
   "cell_type": "code",
   "execution_count": 12,
   "id": "a06d716e-84c1-4914-9f4d-2c81036824a3",
   "metadata": {},
   "outputs": [],
   "source": [
    "gdp_df = gdp_df.rename(columns = {'Country or Area':'Country','Value':'GDP_Per_Capita'})"
   ]
  },
  {
   "cell_type": "code",
   "execution_count": 13,
   "id": "af402772-2828-4698-ba49-7eeeadb2f410",
   "metadata": {},
   "outputs": [
    {
     "name": "stdout",
     "output_type": "stream",
     "text": [
      "          Country  Year  GDP_Per_Capita\n",
      "0     Afghanistan  2021     1517.016266\n",
      "1     Afghanistan  2020     1968.341002\n",
      "2     Afghanistan  2019     2079.921861\n",
      "3     Afghanistan  2018     2060.698973\n",
      "4     Afghanistan  2017     2096.093111\n",
      "...           ...   ...             ...\n",
      "7657     Zimbabwe  1994     2670.106615\n",
      "7658     Zimbabwe  1993     2458.783255\n",
      "7659     Zimbabwe  1992     2468.278257\n",
      "7660     Zimbabwe  1991     2781.787843\n",
      "7661     Zimbabwe  1990     2704.757299\n",
      "\n",
      "[7662 rows x 3 columns]\n"
     ]
    }
   ],
   "source": [
    "print(gdp_df)"
   ]
  },
  {
   "cell_type": "markdown",
   "id": "2550575d-3e36-40a7-89e0-d57e340e57e9",
   "metadata": {},
   "source": [
    "**7. How many countries have data for all years? Which countries are missing many years of data? Look at the number of observations per year. What do you notice?**"
   ]
  },
  {
   "cell_type": "markdown",
   "id": "24a6b506-d8eb-46b0-aa2a-4ed1cdd4e67e",
   "metadata": {},
   "source": [
    "**7a. How many countries have data for all years?**"
   ]
  },
  {
   "cell_type": "code",
   "execution_count": 16,
   "id": "cd66c6a2-7b7d-487f-80a1-e9aebc1e288c",
   "metadata": {},
   "outputs": [],
   "source": [
    "gdp_country = gdp_df.groupby('Country')"
   ]
  },
  {
   "cell_type": "code",
   "execution_count": 290,
   "id": "22d4bb71-e637-4fd0-80bc-5dd89ba9ccb6",
   "metadata": {},
   "outputs": [
    {
     "data": {
      "text/html": [
       "<div>\n",
       "<style scoped>\n",
       "    .dataframe tbody tr th:only-of-type {\n",
       "        vertical-align: middle;\n",
       "    }\n",
       "\n",
       "    .dataframe tbody tr th {\n",
       "        vertical-align: top;\n",
       "    }\n",
       "\n",
       "    .dataframe thead th {\n",
       "        text-align: right;\n",
       "    }\n",
       "</style>\n",
       "<table border=\"1\" class=\"dataframe\">\n",
       "  <thead>\n",
       "    <tr style=\"text-align: right;\">\n",
       "      <th></th>\n",
       "      <th>Year</th>\n",
       "      <th>GDP_Per_Capita</th>\n",
       "    </tr>\n",
       "    <tr>\n",
       "      <th>Country</th>\n",
       "      <th></th>\n",
       "      <th></th>\n",
       "    </tr>\n",
       "  </thead>\n",
       "  <tbody>\n",
       "    <tr>\n",
       "      <th>Afghanistan</th>\n",
       "      <td>20</td>\n",
       "      <td>20</td>\n",
       "    </tr>\n",
       "    <tr>\n",
       "      <th>Africa Eastern and Southern</th>\n",
       "      <td>33</td>\n",
       "      <td>33</td>\n",
       "    </tr>\n",
       "    <tr>\n",
       "      <th>Africa Western and Central</th>\n",
       "      <td>33</td>\n",
       "      <td>33</td>\n",
       "    </tr>\n",
       "    <tr>\n",
       "      <th>Albania</th>\n",
       "      <td>33</td>\n",
       "      <td>33</td>\n",
       "    </tr>\n",
       "    <tr>\n",
       "      <th>Algeria</th>\n",
       "      <td>33</td>\n",
       "      <td>33</td>\n",
       "    </tr>\n",
       "    <tr>\n",
       "      <th>...</th>\n",
       "      <td>...</td>\n",
       "      <td>...</td>\n",
       "    </tr>\n",
       "    <tr>\n",
       "      <th>Viet Nam</th>\n",
       "      <td>33</td>\n",
       "      <td>33</td>\n",
       "    </tr>\n",
       "    <tr>\n",
       "      <th>West Bank and Gaza</th>\n",
       "      <td>29</td>\n",
       "      <td>29</td>\n",
       "    </tr>\n",
       "    <tr>\n",
       "      <th>World</th>\n",
       "      <td>33</td>\n",
       "      <td>33</td>\n",
       "    </tr>\n",
       "    <tr>\n",
       "      <th>Zambia</th>\n",
       "      <td>33</td>\n",
       "      <td>33</td>\n",
       "    </tr>\n",
       "    <tr>\n",
       "      <th>Zimbabwe</th>\n",
       "      <td>33</td>\n",
       "      <td>33</td>\n",
       "    </tr>\n",
       "  </tbody>\n",
       "</table>\n",
       "<p>242 rows × 2 columns</p>\n",
       "</div>"
      ],
      "text/plain": [
       "                             Year  GDP_Per_Capita\n",
       "Country                                          \n",
       "Afghanistan                    20              20\n",
       "Africa Eastern and Southern    33              33\n",
       "Africa Western and Central     33              33\n",
       "Albania                        33              33\n",
       "Algeria                        33              33\n",
       "...                           ...             ...\n",
       "Viet Nam                       33              33\n",
       "West Bank and Gaza             29              29\n",
       "World                          33              33\n",
       "Zambia                         33              33\n",
       "Zimbabwe                       33              33\n",
       "\n",
       "[242 rows x 2 columns]"
      ]
     },
     "execution_count": 290,
     "metadata": {},
     "output_type": "execute_result"
    }
   ],
   "source": [
    "gdp_country.count()"
   ]
  },
  {
   "cell_type": "code",
   "execution_count": 18,
   "id": "58186913-9f36-4da0-9d26-4e52750891af",
   "metadata": {},
   "outputs": [],
   "source": [
    "total_count = gdp_country.count().sort_values(by = 'Year')"
   ]
  },
  {
   "cell_type": "code",
   "execution_count": 19,
   "id": "f474b79e-91df-4f35-ad39-5046f5d011e1",
   "metadata": {},
   "outputs": [
    {
     "name": "stdout",
     "output_type": "stream",
     "text": [
      "                           Year  GDP_Per_Capita\n",
      "Country                                        \n",
      "Djibouti                     10              10\n",
      "Somalia                      10              10\n",
      "Turks and Caicos Islands     12              12\n",
      "Sint Maarten (Dutch part)    14              14\n",
      "Kosovo                       15              15\n",
      "...                         ...             ...\n",
      "Jamaica                      33              33\n",
      "Japan                        33              33\n",
      "Jordan                       33              33\n",
      "IDA total                    33              33\n",
      "Zimbabwe                     33              33\n",
      "\n",
      "[242 rows x 2 columns]\n"
     ]
    }
   ],
   "source": [
    "print(total_count)"
   ]
  },
  {
   "cell_type": "code",
   "execution_count": 20,
   "id": "dd8ec15d-55f8-4943-98be-5c1ffc072d1c",
   "metadata": {},
   "outputs": [],
   "source": [
    "all_years_count = total_count.loc[total_count.Year == 33]"
   ]
  },
  {
   "cell_type": "code",
   "execution_count": 33,
   "id": "afe83538-ae93-4617-82ca-40d1c6896524",
   "metadata": {},
   "outputs": [
    {
     "data": {
      "text/html": [
       "<div>\n",
       "<style scoped>\n",
       "    .dataframe tbody tr th:only-of-type {\n",
       "        vertical-align: middle;\n",
       "    }\n",
       "\n",
       "    .dataframe tbody tr th {\n",
       "        vertical-align: top;\n",
       "    }\n",
       "\n",
       "    .dataframe thead th {\n",
       "        text-align: right;\n",
       "    }\n",
       "</style>\n",
       "<table border=\"1\" class=\"dataframe\">\n",
       "  <thead>\n",
       "    <tr style=\"text-align: right;\">\n",
       "      <th></th>\n",
       "      <th>Year</th>\n",
       "      <th>GDP_Per_Capita</th>\n",
       "    </tr>\n",
       "    <tr>\n",
       "      <th>Country</th>\n",
       "      <th></th>\n",
       "      <th></th>\n",
       "    </tr>\n",
       "  </thead>\n",
       "  <tbody>\n",
       "    <tr>\n",
       "      <th>Papua New Guinea</th>\n",
       "      <td>33</td>\n",
       "      <td>33</td>\n",
       "    </tr>\n",
       "    <tr>\n",
       "      <th>Pakistan</th>\n",
       "      <td>33</td>\n",
       "      <td>33</td>\n",
       "    </tr>\n",
       "    <tr>\n",
       "      <th>Australia</th>\n",
       "      <td>33</td>\n",
       "      <td>33</td>\n",
       "    </tr>\n",
       "    <tr>\n",
       "      <th>Pacific island small states</th>\n",
       "      <td>33</td>\n",
       "      <td>33</td>\n",
       "    </tr>\n",
       "    <tr>\n",
       "      <th>Austria</th>\n",
       "      <td>33</td>\n",
       "      <td>33</td>\n",
       "    </tr>\n",
       "    <tr>\n",
       "      <th>...</th>\n",
       "      <td>...</td>\n",
       "      <td>...</td>\n",
       "    </tr>\n",
       "    <tr>\n",
       "      <th>Jamaica</th>\n",
       "      <td>33</td>\n",
       "      <td>33</td>\n",
       "    </tr>\n",
       "    <tr>\n",
       "      <th>Japan</th>\n",
       "      <td>33</td>\n",
       "      <td>33</td>\n",
       "    </tr>\n",
       "    <tr>\n",
       "      <th>Jordan</th>\n",
       "      <td>33</td>\n",
       "      <td>33</td>\n",
       "    </tr>\n",
       "    <tr>\n",
       "      <th>IDA total</th>\n",
       "      <td>33</td>\n",
       "      <td>33</td>\n",
       "    </tr>\n",
       "    <tr>\n",
       "      <th>Zimbabwe</th>\n",
       "      <td>33</td>\n",
       "      <td>33</td>\n",
       "    </tr>\n",
       "  </tbody>\n",
       "</table>\n",
       "<p>202 rows × 2 columns</p>\n",
       "</div>"
      ],
      "text/plain": [
       "                             Year  GDP_Per_Capita\n",
       "Country                                          \n",
       "Papua New Guinea               33              33\n",
       "Pakistan                       33              33\n",
       "Australia                      33              33\n",
       "Pacific island small states    33              33\n",
       "Austria                        33              33\n",
       "...                           ...             ...\n",
       "Jamaica                        33              33\n",
       "Japan                          33              33\n",
       "Jordan                         33              33\n",
       "IDA total                      33              33\n",
       "Zimbabwe                       33              33\n",
       "\n",
       "[202 rows x 2 columns]"
      ]
     },
     "execution_count": 33,
     "metadata": {},
     "output_type": "execute_result"
    }
   ],
   "source": [
    "all_years_count"
   ]
  },
  {
   "cell_type": "code",
   "execution_count": 22,
   "id": "9acc27e5-42ef-43c6-a6a8-bb2f4fd5be26",
   "metadata": {},
   "outputs": [
    {
     "data": {
      "text/plain": [
       "Year\n",
       "33    202\n",
       "Name: count, dtype: int64"
      ]
     },
     "execution_count": 22,
     "metadata": {},
     "output_type": "execute_result"
    }
   ],
   "source": [
    "all_years_count.Year.value_counts()"
   ]
  },
  {
   "cell_type": "markdown",
   "id": "92d45ec1-0471-4170-88f5-338ac88d8b1f",
   "metadata": {},
   "source": [
    "**7b.  Which countries are missing many years of data?**"
   ]
  },
  {
   "cell_type": "code",
   "execution_count": 295,
   "id": "0a61649e-e579-40fe-a686-0d49422ed387",
   "metadata": {},
   "outputs": [
    {
     "data": {
      "text/html": [
       "<div>\n",
       "<style scoped>\n",
       "    .dataframe tbody tr th:only-of-type {\n",
       "        vertical-align: middle;\n",
       "    }\n",
       "\n",
       "    .dataframe tbody tr th {\n",
       "        vertical-align: top;\n",
       "    }\n",
       "\n",
       "    .dataframe thead th {\n",
       "        text-align: right;\n",
       "    }\n",
       "</style>\n",
       "<table border=\"1\" class=\"dataframe\">\n",
       "  <thead>\n",
       "    <tr style=\"text-align: right;\">\n",
       "      <th></th>\n",
       "      <th>Year</th>\n",
       "      <th>GDP_Per_Capita</th>\n",
       "    </tr>\n",
       "    <tr>\n",
       "      <th>Country</th>\n",
       "      <th></th>\n",
       "      <th></th>\n",
       "    </tr>\n",
       "  </thead>\n",
       "  <tbody>\n",
       "    <tr>\n",
       "      <th>Djibouti</th>\n",
       "      <td>10</td>\n",
       "      <td>10</td>\n",
       "    </tr>\n",
       "    <tr>\n",
       "      <th>Somalia</th>\n",
       "      <td>10</td>\n",
       "      <td>10</td>\n",
       "    </tr>\n",
       "    <tr>\n",
       "      <th>Turks and Caicos Islands</th>\n",
       "      <td>12</td>\n",
       "      <td>12</td>\n",
       "    </tr>\n",
       "    <tr>\n",
       "      <th>Sint Maarten (Dutch part)</th>\n",
       "      <td>14</td>\n",
       "      <td>14</td>\n",
       "    </tr>\n",
       "    <tr>\n",
       "      <th>Kosovo</th>\n",
       "      <td>15</td>\n",
       "      <td>15</td>\n",
       "    </tr>\n",
       "    <tr>\n",
       "      <th>Cayman Islands</th>\n",
       "      <td>16</td>\n",
       "      <td>16</td>\n",
       "    </tr>\n",
       "    <tr>\n",
       "      <th>Nauru</th>\n",
       "      <td>19</td>\n",
       "      <td>19</td>\n",
       "    </tr>\n",
       "    <tr>\n",
       "      <th>Afghanistan</th>\n",
       "      <td>20</td>\n",
       "      <td>20</td>\n",
       "    </tr>\n",
       "    <tr>\n",
       "      <th>CuraÃ§ao</th>\n",
       "      <td>22</td>\n",
       "      <td>22</td>\n",
       "    </tr>\n",
       "    <tr>\n",
       "      <th>Palau</th>\n",
       "      <td>22</td>\n",
       "      <td>22</td>\n",
       "    </tr>\n",
       "    <tr>\n",
       "      <th>SÃ£o TomÃ© and Principe</th>\n",
       "      <td>22</td>\n",
       "      <td>22</td>\n",
       "    </tr>\n",
       "    <tr>\n",
       "      <th>Qatar</th>\n",
       "      <td>23</td>\n",
       "      <td>23</td>\n",
       "    </tr>\n",
       "    <tr>\n",
       "      <th>Other small states</th>\n",
       "      <td>23</td>\n",
       "      <td>23</td>\n",
       "    </tr>\n",
       "    <tr>\n",
       "      <th>Timor-Leste</th>\n",
       "      <td>23</td>\n",
       "      <td>23</td>\n",
       "    </tr>\n",
       "    <tr>\n",
       "      <th>Liberia</th>\n",
       "      <td>23</td>\n",
       "      <td>23</td>\n",
       "    </tr>\n",
       "    <tr>\n",
       "      <th>Libya</th>\n",
       "      <td>24</td>\n",
       "      <td>24</td>\n",
       "    </tr>\n",
       "    <tr>\n",
       "      <th>San Marino</th>\n",
       "      <td>25</td>\n",
       "      <td>25</td>\n",
       "    </tr>\n",
       "    <tr>\n",
       "      <th>Small states</th>\n",
       "      <td>26</td>\n",
       "      <td>26</td>\n",
       "    </tr>\n",
       "    <tr>\n",
       "      <th>Montenegro</th>\n",
       "      <td>26</td>\n",
       "      <td>26</td>\n",
       "    </tr>\n",
       "    <tr>\n",
       "      <th>Maldives</th>\n",
       "      <td>28</td>\n",
       "      <td>28</td>\n",
       "    </tr>\n",
       "  </tbody>\n",
       "</table>\n",
       "</div>"
      ],
      "text/plain": [
       "                           Year  GDP_Per_Capita\n",
       "Country                                        \n",
       "Djibouti                     10              10\n",
       "Somalia                      10              10\n",
       "Turks and Caicos Islands     12              12\n",
       "Sint Maarten (Dutch part)    14              14\n",
       "Kosovo                       15              15\n",
       "Cayman Islands               16              16\n",
       "Nauru                        19              19\n",
       "Afghanistan                  20              20\n",
       "CuraÃ§ao                     22              22\n",
       "Palau                        22              22\n",
       "SÃ£o TomÃ© and Principe      22              22\n",
       "Qatar                        23              23\n",
       "Other small states           23              23\n",
       "Timor-Leste                  23              23\n",
       "Liberia                      23              23\n",
       "Libya                        24              24\n",
       "San Marino                   25              25\n",
       "Small states                 26              26\n",
       "Montenegro                   26              26\n",
       "Maldives                     28              28"
      ]
     },
     "execution_count": 295,
     "metadata": {},
     "output_type": "execute_result"
    }
   ],
   "source": [
    "total_count.head(20)"
   ]
  },
  {
   "cell_type": "markdown",
   "id": "95d9acc2-bbc8-42bf-8fc1-9e2059faa269",
   "metadata": {},
   "source": [
    "**7c. Look at the number of observations per year. What do you notice? when GDP_per_capita is low the country will be missing lots of years of data**\n"
   ]
  },
  {
   "cell_type": "code",
   "execution_count": 26,
   "id": "cfee0280-086e-425b-bb19-e873b2e8a654",
   "metadata": {},
   "outputs": [
    {
     "data": {
      "text/html": [
       "<div>\n",
       "<style scoped>\n",
       "    .dataframe tbody tr th:only-of-type {\n",
       "        vertical-align: middle;\n",
       "    }\n",
       "\n",
       "    .dataframe tbody tr th {\n",
       "        vertical-align: top;\n",
       "    }\n",
       "\n",
       "    .dataframe thead tr th {\n",
       "        text-align: left;\n",
       "    }\n",
       "\n",
       "    .dataframe thead tr:last-of-type th {\n",
       "        text-align: right;\n",
       "    }\n",
       "</style>\n",
       "<table border=\"1\" class=\"dataframe\">\n",
       "  <thead>\n",
       "    <tr>\n",
       "      <th></th>\n",
       "      <th colspan=\"4\" halign=\"left\">Year</th>\n",
       "      <th colspan=\"4\" halign=\"left\">GDP_Per_Capita</th>\n",
       "    </tr>\n",
       "    <tr>\n",
       "      <th></th>\n",
       "      <th>count</th>\n",
       "      <th>mean</th>\n",
       "      <th>max</th>\n",
       "      <th>min</th>\n",
       "      <th>count</th>\n",
       "      <th>mean</th>\n",
       "      <th>max</th>\n",
       "      <th>min</th>\n",
       "    </tr>\n",
       "    <tr>\n",
       "      <th>Country</th>\n",
       "      <th></th>\n",
       "      <th></th>\n",
       "      <th></th>\n",
       "      <th></th>\n",
       "      <th></th>\n",
       "      <th></th>\n",
       "      <th></th>\n",
       "      <th></th>\n",
       "    </tr>\n",
       "  </thead>\n",
       "  <tbody>\n",
       "    <tr>\n",
       "      <th>Afghanistan</th>\n",
       "      <td>20</td>\n",
       "      <td>2011.5</td>\n",
       "      <td>2021</td>\n",
       "      <td>2002</td>\n",
       "      <td>20</td>\n",
       "      <td>1790.659581</td>\n",
       "      <td>2165.340915</td>\n",
       "      <td>1260.060581</td>\n",
       "    </tr>\n",
       "    <tr>\n",
       "      <th>Africa Eastern and Southern</th>\n",
       "      <td>33</td>\n",
       "      <td>2006.0</td>\n",
       "      <td>2022</td>\n",
       "      <td>1990</td>\n",
       "      <td>33</td>\n",
       "      <td>3238.934911</td>\n",
       "      <td>3661.360566</td>\n",
       "      <td>2715.131116</td>\n",
       "    </tr>\n",
       "    <tr>\n",
       "      <th>Africa Western and Central</th>\n",
       "      <td>33</td>\n",
       "      <td>2006.0</td>\n",
       "      <td>2022</td>\n",
       "      <td>1990</td>\n",
       "      <td>33</td>\n",
       "      <td>3337.603210</td>\n",
       "      <td>4148.547272</td>\n",
       "      <td>2561.665446</td>\n",
       "    </tr>\n",
       "    <tr>\n",
       "      <th>Albania</th>\n",
       "      <td>33</td>\n",
       "      <td>2006.0</td>\n",
       "      <td>2022</td>\n",
       "      <td>1990</td>\n",
       "      <td>33</td>\n",
       "      <td>8674.425710</td>\n",
       "      <td>15501.662931</td>\n",
       "      <td>3264.820757</td>\n",
       "    </tr>\n",
       "    <tr>\n",
       "      <th>Algeria</th>\n",
       "      <td>33</td>\n",
       "      <td>2006.0</td>\n",
       "      <td>2022</td>\n",
       "      <td>1990</td>\n",
       "      <td>33</td>\n",
       "      <td>10058.147899</td>\n",
       "      <td>11888.322967</td>\n",
       "      <td>7869.270272</td>\n",
       "    </tr>\n",
       "    <tr>\n",
       "      <th>...</th>\n",
       "      <td>...</td>\n",
       "      <td>...</td>\n",
       "      <td>...</td>\n",
       "      <td>...</td>\n",
       "      <td>...</td>\n",
       "      <td>...</td>\n",
       "      <td>...</td>\n",
       "      <td>...</td>\n",
       "    </tr>\n",
       "    <tr>\n",
       "      <th>Viet Nam</th>\n",
       "      <td>33</td>\n",
       "      <td>2006.0</td>\n",
       "      <td>2022</td>\n",
       "      <td>1990</td>\n",
       "      <td>33</td>\n",
       "      <td>5710.759399</td>\n",
       "      <td>11396.531469</td>\n",
       "      <td>2099.394649</td>\n",
       "    </tr>\n",
       "    <tr>\n",
       "      <th>West Bank and Gaza</th>\n",
       "      <td>29</td>\n",
       "      <td>2008.0</td>\n",
       "      <td>2022</td>\n",
       "      <td>1994</td>\n",
       "      <td>29</td>\n",
       "      <td>5110.371012</td>\n",
       "      <td>6438.933640</td>\n",
       "      <td>3395.855028</td>\n",
       "    </tr>\n",
       "    <tr>\n",
       "      <th>World</th>\n",
       "      <td>33</td>\n",
       "      <td>2006.0</td>\n",
       "      <td>2022</td>\n",
       "      <td>1990</td>\n",
       "      <td>33</td>\n",
       "      <td>12962.677329</td>\n",
       "      <td>17485.934316</td>\n",
       "      <td>9665.890260</td>\n",
       "    </tr>\n",
       "    <tr>\n",
       "      <th>Zambia</th>\n",
       "      <td>33</td>\n",
       "      <td>2006.0</td>\n",
       "      <td>2022</td>\n",
       "      <td>1990</td>\n",
       "      <td>33</td>\n",
       "      <td>2674.800172</td>\n",
       "      <td>3425.948936</td>\n",
       "      <td>1991.185925</td>\n",
       "    </tr>\n",
       "    <tr>\n",
       "      <th>Zimbabwe</th>\n",
       "      <td>33</td>\n",
       "      <td>2006.0</td>\n",
       "      <td>2022</td>\n",
       "      <td>1990</td>\n",
       "      <td>33</td>\n",
       "      <td>2301.826155</td>\n",
       "      <td>2931.725144</td>\n",
       "      <td>1353.207369</td>\n",
       "    </tr>\n",
       "  </tbody>\n",
       "</table>\n",
       "<p>242 rows × 8 columns</p>\n",
       "</div>"
      ],
      "text/plain": [
       "                             Year                     GDP_Per_Capita  \\\n",
       "                            count    mean   max   min          count   \n",
       "Country                                                                \n",
       "Afghanistan                    20  2011.5  2021  2002             20   \n",
       "Africa Eastern and Southern    33  2006.0  2022  1990             33   \n",
       "Africa Western and Central     33  2006.0  2022  1990             33   \n",
       "Albania                        33  2006.0  2022  1990             33   \n",
       "Algeria                        33  2006.0  2022  1990             33   \n",
       "...                           ...     ...   ...   ...            ...   \n",
       "Viet Nam                       33  2006.0  2022  1990             33   \n",
       "West Bank and Gaza             29  2008.0  2022  1994             29   \n",
       "World                          33  2006.0  2022  1990             33   \n",
       "Zambia                         33  2006.0  2022  1990             33   \n",
       "Zimbabwe                       33  2006.0  2022  1990             33   \n",
       "\n",
       "                                                                      \n",
       "                                     mean           max          min  \n",
       "Country                                                               \n",
       "Afghanistan                   1790.659581   2165.340915  1260.060581  \n",
       "Africa Eastern and Southern   3238.934911   3661.360566  2715.131116  \n",
       "Africa Western and Central    3337.603210   4148.547272  2561.665446  \n",
       "Albania                       8674.425710  15501.662931  3264.820757  \n",
       "Algeria                      10058.147899  11888.322967  7869.270272  \n",
       "...                                   ...           ...          ...  \n",
       "Viet Nam                      5710.759399  11396.531469  2099.394649  \n",
       "West Bank and Gaza            5110.371012   6438.933640  3395.855028  \n",
       "World                        12962.677329  17485.934316  9665.890260  \n",
       "Zambia                        2674.800172   3425.948936  1991.185925  \n",
       "Zimbabwe                      2301.826155   2931.725144  1353.207369  \n",
       "\n",
       "[242 rows x 8 columns]"
      ]
     },
     "execution_count": 26,
     "metadata": {},
     "output_type": "execute_result"
    }
   ],
   "source": [
    "gdp_df.groupby(['Country']).agg({'Year' : ['count','mean','max','min'],'GDP_Per_Capita' :['count','mean','max','min']})"
   ]
  },
  {
   "cell_type": "markdown",
   "id": "c5d73ab8-71f8-4dde-8a67-9cde209c13c6",
   "metadata": {},
   "source": [
    "**8. In this question, you're going to create some plots to show the distribution of GDP per capita for the year 2020. Go to the Python Graph Gallery (https://www.python-graph-gallery.com/) and look at the different types of plots under the Distribution section. Create a histogram, a density plot, a boxplot, and a violin plot. What do you notice when you look at these plots? How do the plots compare and what information can you get out of one type that you can't necessarily get out of the others?**"
   ]
  },
  {
   "cell_type": "markdown",
   "id": "6465befc-b1ad-4824-bfbc-16dde715c41d",
   "metadata": {},
   "source": [
    "**8a. Create a histogram**"
   ]
  },
  {
   "cell_type": "code",
   "execution_count": 39,
   "id": "1bd117da-9b23-49a7-aade-9fd4d11ee890",
   "metadata": {},
   "outputs": [],
   "source": [
    "x = gdp_df.rename(columns = {'Country or Area':'Country','Value':'GDP_Per_Capita'})"
   ]
  },
  {
   "cell_type": "code",
   "execution_count": 41,
   "id": "420b08b8-b118-4c30-9c8c-e99f9dcecd4c",
   "metadata": {},
   "outputs": [],
   "source": [
    "my_list = [2020]"
   ]
  },
  {
   "cell_type": "code",
   "execution_count": 43,
   "id": "924b4454-56d6-408b-baa4-22031d4f83d5",
   "metadata": {},
   "outputs": [],
   "source": [
    "gdp_2020 = x.loc[x.Year.isin(my_list)]\n"
   ]
  },
  {
   "cell_type": "code",
   "execution_count": 53,
   "id": "c1ce01a7-dec4-4b2b-bb8e-450d8cccb0f8",
   "metadata": {},
   "outputs": [
    {
     "data": {
      "image/png": "[encoded data removed]",
      "text/plain": [
       "<Figure size 640x480 with 1 Axes>"
      ]
     },
     "metadata": {},
     "output_type": "display_data"
    }
   ],
   "source": [
    "gdp_2020['GDP_Per_Capita'].hist(bins = 25,edgecolor = 'black');\n",
    "plt.title('GDP Per Capita 2020', fontsize = 15);"
   ]
  },
  {
   "cell_type": "markdown",
   "id": "7439be77-877e-44dc-a80b-a5e9e53ab431",
   "metadata": {},
   "source": [
    "**8b. Create a density plot**"
   ]
  },
  {
   "cell_type": "code",
   "execution_count": 55,
   "id": "817d13fc-5f55-4bd7-8949-5df2c0d3b3ab",
   "metadata": {},
   "outputs": [
    {
     "data": {
      "image/png": "[encoded data removed]",
      "text/plain": [
       "<Figure size 640x480 with 1 Axes>"
      ]
     },
     "metadata": {},
     "output_type": "display_data"
    }
   ],
   "source": [
    "sns.kdeplot(data = gdp_2020, x = 'GDP_Per_Capita');"
   ]
  },
  {
   "cell_type": "markdown",
   "id": "2c7c4729-79fe-4955-bc4f-cae5d2cf0e29",
   "metadata": {},
   "source": [
    "**8c. Create a boxplot**"
   ]
  },
  {
   "cell_type": "code",
   "execution_count": 58,
   "id": "a6a904d8-bbdc-4ac2-b1a4-f1bddd3557cc",
   "metadata": {},
   "outputs": [
    {
     "data": {
      "image/png": "[encoded data removed]",
      "text/plain": [
       "<Figure size 640x480 with 1 Axes>"
      ]
     },
     "metadata": {},
     "output_type": "display_data"
    }
   ],
   "source": [
    "sns.boxplot(data = gdp_2020, x = 'GDP_Per_Capita');"
   ]
  },
  {
   "cell_type": "markdown",
   "id": "6087223c-c5fe-4d87-87cf-1c987fda8ebb",
   "metadata": {},
   "source": [
    "**8d. Create a violin plot**"
   ]
  },
  {
   "cell_type": "code",
   "execution_count": 64,
   "id": "64113519-3c83-49f0-beac-6a46a393e477",
   "metadata": {},
   "outputs": [
    {
     "data": {
      "image/png": "[encoded data removed]",
      "text/plain": [
       "<Figure size 640x480 with 1 Axes>"
      ]
     },
     "metadata": {},
     "output_type": "display_data"
    }
   ],
   "source": [
    "sns.violinplot(x=gdp_2020['Year'], y=gdp_2020['GDP_Per_Capita']);"
   ]
  },
  {
   "cell_type": "markdown",
   "id": "5913b855-c27e-4243-9019-956472ecbcf3",
   "metadata": {},
   "source": [
    "**9. What was the median GDP per capita value in 2020? Answer: 13357.99**"
   ]
  },
  {
   "cell_type": "code",
   "execution_count": 304,
   "id": "463da033-e571-4fa2-8206-e4f071ded1c3",
   "metadata": {},
   "outputs": [
    {
     "data": {
      "text/plain": [
       "13357.997573370474"
      ]
     },
     "execution_count": 304,
     "metadata": {},
     "output_type": "execute_result"
    }
   ],
   "source": [
    "gdp_2020['GDP_Per_Capita'].median()"
   ]
  },
  {
   "cell_type": "markdown",
   "id": "cd229408-3bc2-456b-ba03-4c3af4d64721",
   "metadata": {},
   "source": [
    "**10. For this question, you're going to create some visualizations to compare GDP per capita values for the years 1990, 2000, 2010, and 2020. Start by subsetting your data to just these 4 years into a new DataFrame named gdp_decades. Using this, create the following 4 plots:\r\n",
    "\t* A boxplot\r\n",
    "\t* A barplot (check out the Barplot with Seaborn section: https://www.python-graph-gallery.com/barplot/#Seaborn)\r\n",
    "\t* A scatterplot\r\n",
    "\t* A scatterplot with a trend line overlaid (see this regplot example: https://www.python-graph-gallery.com/42-custom-linear-regression-fit-seab**orn)  "
   ]
  },
  {
   "cell_type": "markdown",
   "id": "92938d1b-4b58-4063-81ff-59361df069ee",
   "metadata": {},
   "source": [
    "**10a. Create a boxplot**"
   ]
  },
  {
   "cell_type": "code",
   "execution_count": 76,
   "id": "cf6df359-88fd-4e49-810a-da22f25dfe90",
   "metadata": {},
   "outputs": [],
   "source": [
    "x = gdp_df.rename(columns = {'Country or Area':'Country','Value':'GDP_Per_Capita'})"
   ]
  },
  {
   "cell_type": "code",
   "execution_count": 78,
   "id": "249100bc-d2d5-4525-8bb2-19552ba16fc9",
   "metadata": {},
   "outputs": [
    {
     "data": {
      "text/html": [
       "<div>\n",
       "<style scoped>\n",
       "    .dataframe tbody tr th:only-of-type {\n",
       "        vertical-align: middle;\n",
       "    }\n",
       "\n",
       "    .dataframe tbody tr th {\n",
       "        vertical-align: top;\n",
       "    }\n",
       "\n",
       "    .dataframe thead th {\n",
       "        text-align: right;\n",
       "    }\n",
       "</style>\n",
       "<table border=\"1\" class=\"dataframe\">\n",
       "  <thead>\n",
       "    <tr style=\"text-align: right;\">\n",
       "      <th></th>\n",
       "      <th>Country</th>\n",
       "      <th>Year</th>\n",
       "      <th>GDP_Per_Capita</th>\n",
       "    </tr>\n",
       "  </thead>\n",
       "  <tbody>\n",
       "    <tr>\n",
       "      <th>0</th>\n",
       "      <td>Afghanistan</td>\n",
       "      <td>2021</td>\n",
       "      <td>1517.016266</td>\n",
       "    </tr>\n",
       "    <tr>\n",
       "      <th>1</th>\n",
       "      <td>Afghanistan</td>\n",
       "      <td>2020</td>\n",
       "      <td>1968.341002</td>\n",
       "    </tr>\n",
       "    <tr>\n",
       "      <th>2</th>\n",
       "      <td>Afghanistan</td>\n",
       "      <td>2019</td>\n",
       "      <td>2079.921861</td>\n",
       "    </tr>\n",
       "    <tr>\n",
       "      <th>3</th>\n",
       "      <td>Afghanistan</td>\n",
       "      <td>2018</td>\n",
       "      <td>2060.698973</td>\n",
       "    </tr>\n",
       "    <tr>\n",
       "      <th>4</th>\n",
       "      <td>Afghanistan</td>\n",
       "      <td>2017</td>\n",
       "      <td>2096.093111</td>\n",
       "    </tr>\n",
       "    <tr>\n",
       "      <th>...</th>\n",
       "      <td>...</td>\n",
       "      <td>...</td>\n",
       "      <td>...</td>\n",
       "    </tr>\n",
       "    <tr>\n",
       "      <th>7657</th>\n",
       "      <td>Zimbabwe</td>\n",
       "      <td>1994</td>\n",
       "      <td>2670.106615</td>\n",
       "    </tr>\n",
       "    <tr>\n",
       "      <th>7658</th>\n",
       "      <td>Zimbabwe</td>\n",
       "      <td>1993</td>\n",
       "      <td>2458.783255</td>\n",
       "    </tr>\n",
       "    <tr>\n",
       "      <th>7659</th>\n",
       "      <td>Zimbabwe</td>\n",
       "      <td>1992</td>\n",
       "      <td>2468.278257</td>\n",
       "    </tr>\n",
       "    <tr>\n",
       "      <th>7660</th>\n",
       "      <td>Zimbabwe</td>\n",
       "      <td>1991</td>\n",
       "      <td>2781.787843</td>\n",
       "    </tr>\n",
       "    <tr>\n",
       "      <th>7661</th>\n",
       "      <td>Zimbabwe</td>\n",
       "      <td>1990</td>\n",
       "      <td>2704.757299</td>\n",
       "    </tr>\n",
       "  </tbody>\n",
       "</table>\n",
       "<p>7662 rows × 3 columns</p>\n",
       "</div>"
      ],
      "text/plain": [
       "          Country  Year  GDP_Per_Capita\n",
       "0     Afghanistan  2021     1517.016266\n",
       "1     Afghanistan  2020     1968.341002\n",
       "2     Afghanistan  2019     2079.921861\n",
       "3     Afghanistan  2018     2060.698973\n",
       "4     Afghanistan  2017     2096.093111\n",
       "...           ...   ...             ...\n",
       "7657     Zimbabwe  1994     2670.106615\n",
       "7658     Zimbabwe  1993     2458.783255\n",
       "7659     Zimbabwe  1992     2468.278257\n",
       "7660     Zimbabwe  1991     2781.787843\n",
       "7661     Zimbabwe  1990     2704.757299\n",
       "\n",
       "[7662 rows x 3 columns]"
      ]
     },
     "execution_count": 78,
     "metadata": {},
     "output_type": "execute_result"
    }
   ],
   "source": [
    "x"
   ]
  },
  {
   "cell_type": "code",
   "execution_count": 130,
   "id": "fcee3fab-e15a-423d-9ab6-a82146c70e9e",
   "metadata": {},
   "outputs": [],
   "source": [
    "my_list= [1990,2000,2010,2020]"
   ]
  },
  {
   "cell_type": "code",
   "execution_count": 309,
   "id": "16692615-5ff2-4e4d-b86a-0d2fb7c0c860",
   "metadata": {},
   "outputs": [],
   "source": [
    "gdp_decades = x.loc[x.Year.isin(my_list)]"
   ]
  },
  {
   "cell_type": "code",
   "execution_count": 169,
   "id": "ed4a92f2-873b-468f-8e8c-f826feadcd9e",
   "metadata": {},
   "outputs": [],
   "source": []
  },
  {
   "cell_type": "code",
   "execution_count": 311,
   "id": "4f6d8d57-7f4a-498d-aeb4-76a27bef2621",
   "metadata": {
    "scrolled": true
   },
   "outputs": [
    {
     "data": {
      "image/png": "[encoded data removed]",
      "text/plain": [
       "<Figure size 640x480 with 1 Axes>"
      ]
     },
     "metadata": {},
     "output_type": "display_data"
    }
   ],
   "source": [
    "sns.boxplot(data = gdp_decades, x = 'Year', y = 'GDP_Per_Capita');"
   ]
  },
  {
   "cell_type": "markdown",
   "id": "639fe35b-ef33-4b46-8b83-de37a8027bcf",
   "metadata": {},
   "source": [
    "**10b. Create a barplot (check out the Barplot with Seaborn section: https://www.python-graph-gallery.com/barplot/#Seaborn)**"
   ]
  },
  {
   "cell_type": "code",
   "execution_count": 313,
   "id": "e22614c1-5419-4115-95e2-0dce75f5e58d",
   "metadata": {},
   "outputs": [
    {
     "data": {
      "image/png": "[encoded data removed]",
      "text/plain": [
       "<Figure size 640x480 with 1 Axes>"
      ]
     },
     "metadata": {},
     "output_type": "display_data"
    }
   ],
   "source": [
    "sns.barplot(x = \"Year\", y = \"GDP_Per_Capita\", data=gdp_decades);"
   ]
  },
  {
   "cell_type": "markdown",
   "id": "5be43f84-5515-474e-90c4-df6ae8739a4f",
   "metadata": {},
   "source": [
    "**10c. Create a scatterplot**"
   ]
  },
  {
   "cell_type": "code",
   "execution_count": 317,
   "id": "891095de-4db8-43bd-9e6e-6f5b58cdda47",
   "metadata": {},
   "outputs": [
    {
     "data": {
      "image/png": "[encoded data removed]",
      "text/plain": [
       "<Figure size 640x480 with 1 Axes>"
      ]
     },
     "metadata": {},
     "output_type": "display_data"
    }
   ],
   "source": [
    "sns.scatterplot(x=gdp_decades[\"Year\"], y=gdp_decades[\"GDP_Per_Capita\"]);"
   ]
  },
  {
   "cell_type": "code",
   "execution_count": 319,
   "id": "a996af0a-5fb5-44de-8ca3-99622596554b",
   "metadata": {},
   "outputs": [],
   "source": [
    "Years = gdp_decades['Year']"
   ]
  },
  {
   "cell_type": "code",
   "execution_count": 321,
   "id": "3e6f1f98-7c92-4004-8221-4eea95819663",
   "metadata": {},
   "outputs": [],
   "source": [
    "GDP = gdp_decades['GDP_Per_Capita']"
   ]
  },
  {
   "cell_type": "code",
   "execution_count": 331,
   "id": "419a143d-72c2-4629-a5af-0a2418e10571",
   "metadata": {},
   "outputs": [
    {
     "data": {
      "image/png": "[encoded data removed]",
      "text/plain": [
       "<Figure size 640x480 with 1 Axes>"
      ]
     },
     "metadata": {},
     "output_type": "display_data"
    }
   ],
   "source": [
    "plt.scatter(Years, GDP);"
   ]
  },
  {
   "cell_type": "markdown",
   "id": "dfe59be8-da24-4f52-a653-530b63b0c313",
   "metadata": {},
   "source": [
    "**10d. Create a scatterplot with a trend line overlaid (see this regplot example: https://www.python-graph-gallery.com/42-custom-linear-regression-fit-seaborn)**"
   ]
  },
  {
   "cell_type": "code",
   "execution_count": 333,
   "id": "c31ed6da-85ae-4b0e-bea5-f6a3deffa312",
   "metadata": {
    "scrolled": true
   },
   "outputs": [
    {
     "data": {
      "image/png": "[encoded data removed]",
      "text/plain": [
       "<Figure size 600x600 with 1 Axes>"
      ]
     },
     "metadata": {},
     "output_type": "display_data"
    }
   ],
   "source": [
    "fig, ax = plt.subplots(figsize=(6,6))\n",
    "sns.regplot(x=gdp_decades[\"Year\"], y=gdp_decades[\"GDP_Per_Capita\"],line_kws={\"color\" : \"red\", \"linewidth\": 1.5},ax=ax);"
   ]
  },
  {
   "cell_type": "markdown",
   "id": "e164dba5-4387-4b00-97bf-610e784bbef4",
   "metadata": {},
   "source": [
    "**Comment on what you observe has happened to GDP values over time and the relative strengths and weaknesses of each type of plot.**"
   ]
  },
  {
   "cell_type": "code",
   "execution_count": null,
   "id": "1b82c02d-b4da-4806-9387-54d774bfce5d",
   "metadata": {},
   "outputs": [],
   "source": []
  },
  {
   "cell_type": "markdown",
   "id": "7c0c485a-8b6d-43b2-9721-96722e962fbb",
   "metadata": {},
   "source": [
    "**10. Which country was the first to have a GDP per capita greater than $100,000?**"
   ]
  },
  {
   "cell_type": "code",
   "execution_count": 447,
   "id": "f4247062-66d0-4da0-b6a9-83e835c664cf",
   "metadata": {},
   "outputs": [
    {
     "data": {
      "text/html": [
       "<div>\n",
       "<style scoped>\n",
       "    .dataframe tbody tr th:only-of-type {\n",
       "        vertical-align: middle;\n",
       "    }\n",
       "\n",
       "    .dataframe tbody tr th {\n",
       "        vertical-align: top;\n",
       "    }\n",
       "\n",
       "    .dataframe thead th {\n",
       "        text-align: right;\n",
       "    }\n",
       "</style>\n",
       "<table border=\"1\" class=\"dataframe\">\n",
       "  <thead>\n",
       "    <tr style=\"text-align: right;\">\n",
       "      <th></th>\n",
       "      <th>Country</th>\n",
       "      <th>Year</th>\n",
       "      <th>GDP_Per_Capita</th>\n",
       "    </tr>\n",
       "  </thead>\n",
       "  <tbody>\n",
       "    <tr>\n",
       "      <th>0</th>\n",
       "      <td>Afghanistan</td>\n",
       "      <td>2021</td>\n",
       "      <td>1517.016266</td>\n",
       "    </tr>\n",
       "    <tr>\n",
       "      <th>1</th>\n",
       "      <td>Afghanistan</td>\n",
       "      <td>2020</td>\n",
       "      <td>1968.341002</td>\n",
       "    </tr>\n",
       "    <tr>\n",
       "      <th>2</th>\n",
       "      <td>Afghanistan</td>\n",
       "      <td>2019</td>\n",
       "      <td>2079.921861</td>\n",
       "    </tr>\n",
       "    <tr>\n",
       "      <th>3</th>\n",
       "      <td>Afghanistan</td>\n",
       "      <td>2018</td>\n",
       "      <td>2060.698973</td>\n",
       "    </tr>\n",
       "    <tr>\n",
       "      <th>4</th>\n",
       "      <td>Afghanistan</td>\n",
       "      <td>2017</td>\n",
       "      <td>2096.093111</td>\n",
       "    </tr>\n",
       "    <tr>\n",
       "      <th>...</th>\n",
       "      <td>...</td>\n",
       "      <td>...</td>\n",
       "      <td>...</td>\n",
       "    </tr>\n",
       "    <tr>\n",
       "      <th>7657</th>\n",
       "      <td>Zimbabwe</td>\n",
       "      <td>1994</td>\n",
       "      <td>2670.106615</td>\n",
       "    </tr>\n",
       "    <tr>\n",
       "      <th>7658</th>\n",
       "      <td>Zimbabwe</td>\n",
       "      <td>1993</td>\n",
       "      <td>2458.783255</td>\n",
       "    </tr>\n",
       "    <tr>\n",
       "      <th>7659</th>\n",
       "      <td>Zimbabwe</td>\n",
       "      <td>1992</td>\n",
       "      <td>2468.278257</td>\n",
       "    </tr>\n",
       "    <tr>\n",
       "      <th>7660</th>\n",
       "      <td>Zimbabwe</td>\n",
       "      <td>1991</td>\n",
       "      <td>2781.787843</td>\n",
       "    </tr>\n",
       "    <tr>\n",
       "      <th>7661</th>\n",
       "      <td>Zimbabwe</td>\n",
       "      <td>1990</td>\n",
       "      <td>2704.757299</td>\n",
       "    </tr>\n",
       "  </tbody>\n",
       "</table>\n",
       "<p>7662 rows × 3 columns</p>\n",
       "</div>"
      ],
      "text/plain": [
       "          Country  Year  GDP_Per_Capita\n",
       "0     Afghanistan  2021     1517.016266\n",
       "1     Afghanistan  2020     1968.341002\n",
       "2     Afghanistan  2019     2079.921861\n",
       "3     Afghanistan  2018     2060.698973\n",
       "4     Afghanistan  2017     2096.093111\n",
       "...           ...   ...             ...\n",
       "7657     Zimbabwe  1994     2670.106615\n",
       "7658     Zimbabwe  1993     2458.783255\n",
       "7659     Zimbabwe  1992     2468.278257\n",
       "7660     Zimbabwe  1991     2781.787843\n",
       "7661     Zimbabwe  1990     2704.757299\n",
       "\n",
       "[7662 rows x 3 columns]"
      ]
     },
     "execution_count": 447,
     "metadata": {},
     "output_type": "execute_result"
    }
   ],
   "source": [
    "gdp_df"
   ]
  },
  {
   "cell_type": "code",
   "execution_count": 449,
   "id": "76c6a42d-3d19-437e-b9e7-80e6f061c5b6",
   "metadata": {},
   "outputs": [],
   "source": [
    "min_year = gdp_df.Year.min()"
   ]
  },
  {
   "cell_type": "code",
   "execution_count": 451,
   "id": "4a729246-1dc5-4271-baf4-da522a12068c",
   "metadata": {},
   "outputs": [
    {
     "data": {
      "text/plain": [
       "1990"
      ]
     },
     "execution_count": 451,
     "metadata": {},
     "output_type": "execute_result"
    }
   ],
   "source": [
    "min_year"
   ]
  },
  {
   "cell_type": "code",
   "execution_count": 453,
   "id": "24ef8021-044a-4c41-809e-a2278d766da0",
   "metadata": {},
   "outputs": [],
   "source": [
    "m_year = gdp_df.loc[gdp_df['Year'] == 'min_year'] "
   ]
  },
  {
   "cell_type": "code",
   "execution_count": 455,
   "id": "15910757-bc00-44ec-8283-8ddbfccffacc",
   "metadata": {},
   "outputs": [
    {
     "data": {
      "text/html": [
       "<div>\n",
       "<style scoped>\n",
       "    .dataframe tbody tr th:only-of-type {\n",
       "        vertical-align: middle;\n",
       "    }\n",
       "\n",
       "    .dataframe tbody tr th {\n",
       "        vertical-align: top;\n",
       "    }\n",
       "\n",
       "    .dataframe thead th {\n",
       "        text-align: right;\n",
       "    }\n",
       "</style>\n",
       "<table border=\"1\" class=\"dataframe\">\n",
       "  <thead>\n",
       "    <tr style=\"text-align: right;\">\n",
       "      <th></th>\n",
       "      <th>Country</th>\n",
       "      <th>Year</th>\n",
       "      <th>GDP_Per_Capita</th>\n",
       "    </tr>\n",
       "  </thead>\n",
       "  <tbody>\n",
       "  </tbody>\n",
       "</table>\n",
       "</div>"
      ],
      "text/plain": [
       "Empty DataFrame\n",
       "Columns: [Country, Year, GDP_Per_Capita]\n",
       "Index: []"
      ]
     },
     "execution_count": 455,
     "metadata": {},
     "output_type": "execute_result"
    }
   ],
   "source": [
    "m_year"
   ]
  },
  {
   "cell_type": "code",
   "execution_count": null,
   "id": "8d4252ff-bdae-4a49-a6dc-e0b5cdc20ea6",
   "metadata": {},
   "outputs": [],
   "source": []
  }
 ],
 "metadata": {
  "kernelspec": {
   "display_name": "Python 3 (ipykernel)",
   "language": "python",
   "name": "python3"
  },
  "language_info": {
   "codemirror_mode": {
    "name": "ipython",
    "version": 3
   },
   "file_extension": ".py",
   "mimetype": "text/x-python",
   "name": "python",
   "nbconvert_exporter": "python",
   "pygments_lexer": "ipython3",
   "version": "3.12.4"
  }
 },
 "nbformat": 4,
 "nbformat_minor": 5
}
